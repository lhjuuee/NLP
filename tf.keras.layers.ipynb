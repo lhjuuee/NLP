{
 "cells": [
  {
   "cell_type": "markdown",
   "metadata": {},
   "source": [
    "## 1. Tensorflow\n",
    "\n",
    "### 1.1 tf.keras.layers\n",
    "\n",
    "##### tf.keras.layers.Dense"
   ]
  },
  {
   "cell_type": "code",
   "execution_count": null,
   "metadata": {},
   "outputs": [],
   "source": [
    "import tensorflow as tf"
   ]
  },
  {
   "cell_type": "code",
   "execution_count": 1,
   "metadata": {},
   "outputs": [],
   "source": [
    "input_shape = (20, 1)\n",
    "\n",
    "input = tf.placeholder(tf.float32, shape=input_shape)\n",
    "hidden1 = tf.keras.layers.Dense(10, activation=tf.nn.sigmoid)(input)\n",
    "output = tf.keras.layers.Dense(2, activation = tf.nn.sigmoid)(hidden1)"
   ]
  },
  {
   "cell_type": "markdown",
   "metadata": {},
   "source": [
    "#####  tf.keras.layers.Dropout"
   ]
  },
  {
   "cell_type": "code",
   "execution_count": 5,
   "metadata": {},
   "outputs": [],
   "source": [
    "input = tf.placeholder(tf.float32, shape=input_shape)\n",
    "dropout1 = tf.keras.layers.Dropout(rate=0.2)(input)\n",
    "hidden1 = tf.keras.layers.Dense(10, activation=tf.nn.sigmoid)(dropout1)\n",
    "output = tf.keras.layers.Dense(2, activation=tf.nn.sigmoid)(hidden1)"
   ]
  },
  {
   "cell_type": "markdown",
   "metadata": {},
   "source": [
    "##### tf.keras.layers.Conv1D"
   ]
  },
  {
   "cell_type": "code",
   "execution_count": 6,
   "metadata": {},
   "outputs": [],
   "source": [
    "INPUT_SHAPE = (1, 28, 28)\n",
    "\n",
    "input = tf.placeholder(tf.float32, shape=INPUT_SHAPE)\n",
    "conv1 = tf.keras.layers.Conv1D(filters=10,\n",
    "                               kernel_size=3,\n",
    "                               padding='same',\n",
    "                               activation=tf.nn.relu)(input)"
   ]
  },
  {
   "cell_type": "markdown",
   "metadata": {},
   "source": [
    "###### with dropout"
   ]
  },
  {
   "cell_type": "code",
   "execution_count": 8,
   "metadata": {},
   "outputs": [],
   "source": [
    "INUPT_SHAPE = (1, 28, 28)\n",
    "is_training = True\n",
    "\n",
    "input = tf.placeholder(tf.float32, shape=INPUT_SHAPE)\n",
    "dropout1 = tf.keras.layers.Dropout(rate=0.2)(input)\n",
    "conv1 = tf.keras.layers.Conv1D(filters=10,\n",
    "                               kernel_size=3,\n",
    "                               padding='same',\n",
    "                               activation=tf.nn.relu)(input)"
   ]
  },
  {
   "cell_type": "markdown",
   "metadata": {},
   "source": [
    "##### tf.keras.layers.MaxPool1D"
   ]
  },
  {
   "cell_type": "code",
   "execution_count": 10,
   "metadata": {},
   "outputs": [],
   "source": [
    "INPUT_SHAPE = (1, 28, 28)\n",
    "\n",
    "input = tf.placeholder(tf.float32, shape=INPUT_SHAPE)\n",
    "dropout1 = tf.keras.layers.Dropout(rate=0.2)(input)\n",
    "conv1 = tf.keras.layers.Conv1D(filters=10,\n",
    "                               kernel_size=3,\n",
    "                               padding='same',\n",
    "                               activation=tf.nn.relu)(dropout1)\n",
    "max_pool1 = tf.keras.layers.MaxPool1D(pool_size=3, padding='same')(conv1)\n",
    "flatten = tf.keras.layers.Flatten()(max_pool1)\n",
    "hidden = tf.keras.layers.Dense(50, activation=tf.nn.relu)(flatten)\n",
    "output = tf.keras.layers.Dense(2, activation=tf.nn.softmax)(hidden)"
   ]
  }
 ],
 "metadata": {
  "kernelspec": {
   "display_name": "Python 3",
   "language": "python",
   "name": "python3"
  },
  "language_info": {
   "codemirror_mode": {
    "name": "ipython",
    "version": 3
   },
   "file_extension": ".py",
   "mimetype": "text/x-python",
   "name": "python",
   "nbconvert_exporter": "python",
   "pygments_lexer": "ipython3",
   "version": "3.6.8"
  }
 },
 "nbformat": 4,
 "nbformat_minor": 2
}
