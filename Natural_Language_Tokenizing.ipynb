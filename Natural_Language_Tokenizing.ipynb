{
 "cells": [
  {
   "cell_type": "markdown",
   "metadata": {},
   "source": [
    "## Tokenizing\n",
    "\n",
    "For natural language processing, generally, we split text information into some units. In movie review, each word could be a unit.\n",
    "\n",
    "Tokenizing means split into some unit for text data. Unit can be word, character, or ㅏ,ㄱ."
   ]
  },
  {
   "cell_type": "markdown",
   "metadata": {},
   "source": [
    "###  1. Tokenizing for English"
   ]
  },
  {
   "cell_type": "code",
   "execution_count": 4,
   "metadata": {},
   "outputs": [],
   "source": [
    "import nltk\n",
    "#nltk.download()\n",
    "#nltk.download('punkt')"
   ]
  },
  {
   "cell_type": "markdown",
   "metadata": {},
   "source": [
    "##### Word tokenizing"
   ]
  },
  {
   "cell_type": "code",
   "execution_count": 5,
   "metadata": {},
   "outputs": [
    {
     "name": "stdout",
     "output_type": "stream",
     "text": [
      "['Natural', 'language', 'processing', '(', 'NLP', ')', 'is', 'a', 'subfield', 'of', 'computer', 'science', ',', 'information', 'engineering', ',', 'and', 'artificial', 'intelligence', 'concerned', 'with', 'the', 'interactions', 'between', 'computers', 'and', 'human', '(', 'natura', ')', 'languages', ',', 'in', 'particular', 'how', 'to', 'program', 'computers', 'to', 'process', 'and', 'analyze', 'large', 'amounts', 'of', 'natural', 'language', 'data', '.']\n"
     ]
    }
   ],
   "source": [
    "from nltk.tokenize import word_tokenize\n",
    "sentence = \"Natural language processing (NLP) is a subfield of computer science, information engineering, and artificial intelligence concerned with the interactions between computers and human (natura) languages, in particular how to program computers to process and analyze large amounts of natural language data.\"\n",
    "\n",
    "print(word_tokenize(sentence))"
   ]
  },
  {
   "cell_type": "code",
   "execution_count": null,
   "metadata": {},
   "outputs": [],
   "source": [
    "from nltk.tokenize import sent_tokenize\n",
    "paragraph = \"Natural language processing (NLP) is a subfield of computer science, information engineering, and artificial intelligence concerned with the interactions between computers and human (natura) languages, in particular how to program computers to process and analyze large amounts of natural language data. Challenges in natural language processing frequently involve speech recognition, natural language understanding, and natural language generation.\"\n",
    "\n",
    "print(sent_tokenize(paragraph))"
   ]
  },
  {
   "cell_type": "markdown",
   "metadata": {},
   "source": [
    "### Tokenizing for Korean"
   ]
  },
  {
   "cell_type": "code",
   "execution_count": 6,
   "metadata": {},
   "outputs": [],
   "source": [
    "import konlpy\n",
    "from konlpy.tag import Okt"
   ]
  },
  {
   "cell_type": "code",
   "execution_count": 7,
   "metadata": {},
   "outputs": [],
   "source": [
    "okt = Okt()"
   ]
  },
  {
   "cell_type": "markdown",
   "metadata": {},
   "source": [
    "Okt object offer 4 functions\n",
    "\n",
    "- okt.morphs():\n",
    "It split text into morpheme. There are two ways to tokenize, norm and stem.\n",
    "\n",
    "- okt.nouns(): \n",
    "Text into nouns\n",
    "\n",
    "- okt.phrases():\n",
    "Text into phrases\n",
    "\n",
    "- okt.pos():\n",
    "Above three functions are extraction function. pos function tag each part of speech. norm, stem and join\n",
    "\n",
    "\n",
    "##### okt.morphs()"
   ]
  },
  {
   "cell_type": "code",
   "execution_count": 8,
   "metadata": {},
   "outputs": [
    {
     "name": "stdout",
     "output_type": "stream",
     "text": [
      "['자연어', '처리', '는', '새롭다', '.', '열심히', '해야겠다', 'ㅎㅎㅎ']\n",
      "['자연어', '처리', '는', '새롭다', '.', '열심히', '하다', 'ㅎㅎㅎ']\n"
     ]
    }
   ],
   "source": [
    "text = \"자연어 처리는 새롭다. 열심히 해야겠다 ㅎㅎㅎ\"\n",
    "\n",
    "print(okt.morphs(text))\n",
    "print(okt.morphs(text, stem=True)) # stem extracts its stem 해야지 -> 하다"
   ]
  },
  {
   "cell_type": "markdown",
   "metadata": {},
   "source": [
    "##### okt.nouns & okt.phrases"
   ]
  },
  {
   "cell_type": "code",
   "execution_count": 9,
   "metadata": {},
   "outputs": [
    {
     "name": "stdout",
     "output_type": "stream",
     "text": [
      "['자연어', '처리']\n",
      "['자연어', '자연어 처리', '처리']\n"
     ]
    }
   ],
   "source": [
    "print(okt.nouns(text))\n",
    "print(okt.phrases(text))"
   ]
  },
  {
   "cell_type": "markdown",
   "metadata": {},
   "source": [
    "##### okt.pos()"
   ]
  },
  {
   "cell_type": "code",
   "execution_count": 10,
   "metadata": {},
   "outputs": [
    {
     "name": "stdout",
     "output_type": "stream",
     "text": [
      "[('자연어', 'Noun'), ('처리', 'Noun'), ('는', 'Josa'), ('새롭다', 'Adjective'), ('.', 'Punctuation'), ('열심히', 'Adverb'), ('해야겠다', 'Verb'), ('ㅎㅎㅎ', 'KoreanParticle')]\n",
      "['자연어/Noun', '처리/Noun', '는/Josa', '새롭다/Adjective', './Punctuation', '열심히/Adverb', '해야겠다/Verb', 'ㅎㅎㅎ/KoreanParticle']\n"
     ]
    }
   ],
   "source": [
    "print(okt.pos(text))\n",
    "print(okt.pos(text, join=True))"
   ]
  }
 ],
 "metadata": {
  "kernelspec": {
   "display_name": "Python 3",
   "language": "python",
   "name": "python3"
  },
  "language_info": {
   "codemirror_mode": {
    "name": "ipython",
    "version": 3
   },
   "file_extension": ".py",
   "mimetype": "text/x-python",
   "name": "python",
   "nbconvert_exporter": "python",
   "pygments_lexer": "ipython3",
   "version": "3.6.8"
  }
 },
 "nbformat": 4,
 "nbformat_minor": 2
}
